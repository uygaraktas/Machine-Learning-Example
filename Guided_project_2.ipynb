{
  "nbformat": 4,
  "nbformat_minor": 0,
  "metadata": {
    "colab": {
      "provenance": [],
      "collapsed_sections": [],
      "include_colab_link": true
    },
    "kernelspec": {
      "name": "python3",
      "display_name": "Python 3"
    },
    "language_info": {
      "name": "python"
    }
  },
  "cells": [
    {
      "cell_type": "markdown",
      "metadata": {
        "id": "view-in-github",
        "colab_type": "text"
      },
      "source": [
        "<a href=\"https://colab.research.google.com/github/uygaraktas/MachineLearning/blob/main/Guided_project_2.ipynb\" target=\"_parent\"><img src=\"https://colab.research.google.com/assets/colab-badge.svg\" alt=\"Open In Colab\"/></a>"
      ]
    },
    {
      "cell_type": "markdown",
      "source": [
        "#Chapter 2\n",
        "##Object-oriented programming\n",
        "\n",
        "Your department receives a request to prepare a test software to digitalize the health insurance, logistics, and trading companies that can be expanded in the future.\n",
        "\n",
        "You come up with an idea: object-oriented programming. Your approach is to create classes for each company that will have different attributes and methods to digitalize some of their functions.   \n"
      ],
      "metadata": {
        "id": "L2QxMyW_Qs36"
      }
    },
    {
      "cell_type": "markdown",
      "source": [
        "### Health insurance\n",
        "#### Define the class\n",
        "You start with the health insurance company. \n",
        "\n",
        "You need to create a system for the supplemental health insurance registration process by taking different variables like age, chronic disease, and income into account. \n",
        "\n",
        "📌 Use the keyword \"class\" to create the class \"HealthInsurance\" \n",
        "\n",
        "📌 Use the \"__init__\" method to initialze the object's attributes: self, company_name, foundation_year, founder_name,  company_slogan, num_of_employees and num_of_clients.\n"
      ],
      "metadata": {
        "id": "wNu3jDRBTbcE"
      }
    },
    {
      "cell_type": "markdown",
      "source": [
        "#### Define the methods\n",
        "\n",
        "Next, define the methods of the class:\n",
        "\n",
        "1. print_report method: A method to print out information about the company. \n",
        "\n",
        "  📌 The report should have this structure: \n",
        "\n",
        "  \"The company *name*, was founded in *year*. The founder of the company is *founder_name*. \n",
        "\n",
        "  Company slogan: *company_slogan*\n",
        "\n",
        "  Number of employees: *number of employees*\n",
        "\n",
        "  Number of clients: *number of clients*\"\n",
        "\n",
        "2. sup_health_insurance method: A method to check the eligibility for supplemental health insurance. It should consider the parameters \"age\", \"chronic_disease\", and \"income\".\n",
        "\n",
        "  📌 Use if-else statements and logical operators.\n",
        "\n",
        "3. update_num_clients method: A method to update the attribute number of clients."
      ],
      "metadata": {
        "id": "jEV9hh49JxGt"
      }
    },
    {
      "cell_type": "code",
      "execution_count": null,
      "metadata": {
        "id": "jXBwGqV2OkvB"
      },
      "outputs": [],
      "source": [
        "#Define the \"HealthInsurance\" class\n",
        "class HealthInsurance:\n",
        "    #Initialize the object's attributes\n",
        "    def __init__(self, company_name, foundation_year, founder_name, company_slogan, num_of_employees, num_of_clients):\n",
        "      self.company_name = company_name\n",
        "      self.foundation_year = foundation_year\n",
        "      self.founder_name = founder_name\n",
        "      self.company_slogan = company_slogan\n",
        "      self.num_of_employees = num_of_employees\n",
        "      self.num_of_clients = num_of_clients\n",
        "\n",
        "    #Define the print_report method\n",
        "    def print_report(self):\n",
        "      print(f\"\"\"The company {self.company_name} was founded in {self.foundation_year}.\n",
        "      The founder of the company is {self.founder_name}.\n",
        "      Company slogan: {self.company_slogan}\n",
        "      Number of employees: {self.num_of_employees}\n",
        "      Number of clients: {self.num_of_clients} \"\"\")\n",
        "\n",
        "    #Define the sup_health_insurance method\n",
        "    def sup_health_insurance(self, age, chronic_disease, income):\n",
        "      #if-else statements to check whether person can get supplemental insurance or not\n",
        "      if age >= 60 and chronic_disease == True and income <6000:\n",
        "        print(\"yok sana sigorta\")\n",
        "      elif age <= 60 and income >= 6000 or chronic_disease == False:\n",
        "        print(\"Tebrikler sigorta yapabiliriz\")\n",
        "\n",
        "    #Define the update_num_clients method\n",
        "    def update_num_clients (self, new_number):\n",
        "      self.num_of_clients = new_number\n",
        "      print(f\"Number of clients has been changed to {self.num_of_clients}!\")\n",
        "\n"
      ]
    },
    {
      "cell_type": "markdown",
      "source": [
        "#### Create the object \n",
        "Now that we created our class and initialized its attributes and methods, we can create the object “HI_company1” with the attributes: \n",
        "\n",
        "* Company_name “Healthy”\n",
        "\n",
        "* foundation_year “2012”\n",
        "\n",
        "* founder_name “Bob Mayer”\n",
        "\n",
        "* company_slogan “We care for you.” \n",
        "\n",
        "* num_of_employees “3500”\n",
        "\n",
        "* num_of_clients “13230”\n"
      ],
      "metadata": {
        "id": "4uxjmN3vGCFJ"
      }
    },
    {
      "cell_type": "code",
      "source": [
        "#Create the object \"HI_company1\" with it's attributes\n",
        "HI_company1 = HealthInsurance('Healthy', '2012', 'Munemune', 'we care for you', '3500', '13230')"
      ],
      "metadata": {
        "id": "MBeiD4dlatPD"
      },
      "execution_count": null,
      "outputs": []
    },
    {
      "cell_type": "markdown",
      "source": [
        "#### Let’s check if the methods work.\n",
        "\n",
        "There is a new customer that wants to register for supplemental health insurance. He is 45 years old, does not have a chronic disease, and has an income of 5000 dollars per month.\n",
        "\n",
        "📌 Use the sup_health_insurance method with this information. "
      ],
      "metadata": {
        "id": "V0larkhtGNjQ"
      }
    },
    {
      "cell_type": "code",
      "source": [
        "#Use the sup_health_insurance for the new customer\n",
        "HI_company1.sup_health_insurance(36, True, 6000)"
      ],
      "metadata": {
        "id": "T9SibjcjwP1b",
        "colab": {
          "base_uri": "https://localhost:8080/"
        },
        "outputId": "36e297e7-1771-4e37-a2ab-73d435f81607"
      },
      "execution_count": null,
      "outputs": [
        {
          "output_type": "stream",
          "name": "stdout",
          "text": [
            "Tebrikler sigorta yapabiliriz\n"
          ]
        }
      ]
    },
    {
      "cell_type": "markdown",
      "source": [
        "Because the number of clients has increased, you should use the update_num_clients method. \n",
        "\n",
        "📌 The new_number will be 13231."
      ],
      "metadata": {
        "id": "FiFb7hhnCSql"
      }
    },
    {
      "cell_type": "code",
      "source": [
        "#Update the number of clients\n",
        "HI_company1.update_num_clients(13231)"
      ],
      "metadata": {
        "id": "FMto8ZjLa5rC",
        "colab": {
          "base_uri": "https://localhost:8080/"
        },
        "outputId": "4e74e28d-d77b-4e62-e7c7-c10e0bb91b27"
      },
      "execution_count": null,
      "outputs": [
        {
          "output_type": "stream",
          "name": "stdout",
          "text": [
            "Number of clients has been changed to 13231!\n"
          ]
        }
      ]
    },
    {
      "cell_type": "markdown",
      "source": [
        "To see the output of the latest update and check whether it worked or not, call the print_report method."
      ],
      "metadata": {
        "id": "4AcSJLsoH7kq"
      }
    },
    {
      "cell_type": "code",
      "source": [
        "#Call the print_report method for HI_company1\n",
        "HI_company1.print_report()"
      ],
      "metadata": {
        "id": "IrSkauee4Qkt",
        "colab": {
          "base_uri": "https://localhost:8080/"
        },
        "outputId": "1ff35094-41c2-4fb7-e9ef-7919024da037"
      },
      "execution_count": null,
      "outputs": [
        {
          "output_type": "stream",
          "name": "stdout",
          "text": [
            "The company Healthy was founded in 2012.\n",
            "      The founder of the company is Munemune.\n",
            "      Company slogan: we care for you\n",
            "      Number of employees: 3500\n",
            "      Number of clients: 13231 \n"
          ]
        }
      ]
    },
    {
      "cell_type": "markdown",
      "source": [
        "### Logistic\n",
        "Let's continue with the next company from your brief.\n",
        "\n",
        "Storage plays a crucial part in logistics, and the company wants to track the status of inventory space with software and be able to make changes in the system whenever it is needed.\n",
        "\n",
        "Again, you need to create a class.\n",
        "\n",
        "📌 Use the keyword \"class\" to create the class \"Logistics\" \n",
        "\n",
        "📌 Use the \"__init__\" method to initialze the object's attributes: self, company_name, foundation_year, founder_name,  company_slogan, and inventory_space."
      ],
      "metadata": {
        "id": "EX3NFIF-baj3"
      }
    },
    {
      "cell_type": "markdown",
      "source": [
        "#### Define the methods\n",
        "\n",
        "Next, define the methods of the class:\n",
        "\n",
        "1. print_report method: A method to print out information about the company. \n",
        "\n",
        "  📌 The report should have this structure: \n",
        "\n",
        "  \"The company *name*, was founded in *year*. The founder of the company is *founder_name*. \n",
        "\n",
        "  Company slogan: *company_slogan*\n",
        "\n",
        "  Inventory space of the company: *inventory_space*\n",
        "\n",
        "\n",
        "2. update_inventory_space method: A method to update its inventory_space, and print a statement to describe the change.\n",
        "It should consider the parameter \"new_storage_space\".\n"
      ],
      "metadata": {
        "id": "nPfZUASS4BMg"
      }
    },
    {
      "cell_type": "code",
      "source": [
        "#Define the \"Logistics\" class\n",
        "class Logistics:\n",
        "    #Initialize the object's attributes\n",
        "    def __init__(self, company_name, foundation_year, founder_name, company_slogan, inventory_space):\n",
        "      self.company_name = company_name\n",
        "      self.foundation_year = foundation_year\n",
        "      self.founder_name = founder_name\n",
        "      self.company_slogan = company_slogan\n",
        "      self.inventory_space = inventory_space\n",
        "\n",
        "    #Initialize the object's attributes \n",
        "    \n",
        "        \n",
        "    #Define the print_report method\n",
        "    def print_report(self):\n",
        "      print(f\"\"\"The company {self.company_name} Was founded in {self.foundation_year}.\n",
        "      The founder of the company is {self.founder_name}.\n",
        "      Company slogan: {self.company_slogan}\n",
        "      İnventory Space of the company: {self.inventory_space} \"\"\")\n",
        "\n",
        "    #Define the update_inventory_space method\n",
        "    def update_inventory_space (self, new_space):\n",
        "      self.inventory_space = new_space\n",
        "      print(f\"Inventory space has been changed to {self.inventory_space}!\")\n",
        "\n"
      ],
      "metadata": {
        "id": "fq1787jDa_BI"
      },
      "execution_count": null,
      "outputs": []
    },
    {
      "cell_type": "markdown",
      "source": [
        "#### Create the object \n",
        "Now that we created our class and initialized its attributes and methods, we can create the object “logistic_company1” with the attributes: \n",
        "\n",
        "* Company_name “LogCom”\n",
        "\n",
        "* foundation_year “1990”\n",
        "\n",
        "* founder_name “Laura McCartey”\n",
        "\n",
        "* company_slogan “There is no place we cannot reach.” \n",
        "\n",
        "* inventory_space “2500”\n"
      ],
      "metadata": {
        "id": "AJOdGm82DJsy"
      }
    },
    {
      "cell_type": "code",
      "source": [
        "#Create the object \"logistic_company1\" with it's attributes\n",
        "logistic_company1 = Logistics(\"LogCom\", 1990, \"Laura McCartey\", \"There is no place we connot reach\", 2500)"
      ],
      "metadata": {
        "id": "jZpgNxEU25R9"
      },
      "execution_count": null,
      "outputs": []
    },
    {
      "cell_type": "markdown",
      "source": [
        "\n",
        "#### Let’s check if the methods work.\n",
        "The logistics company plans to buy a new warehouse which will increase the inventory_space to 3000. \n",
        "\n",
        "📌 Call the update_inventory_space method to reflect this change in the system and then use the “print_report” method."
      ],
      "metadata": {
        "id": "g3Auswd8EMeE"
      }
    },
    {
      "cell_type": "code",
      "source": [
        "#Update the inventory space\n",
        "logistic__company1.update_inventory_space(3000)\n",
        "#Call the print_report method for logistic_company1\n",
        "logistic__company1.print_report()"
      ],
      "metadata": {
        "id": "Kcxcr1MS3TLB",
        "colab": {
          "base_uri": "https://localhost:8080/"
        },
        "outputId": "4e24cd20-082f-4dd5-dbe2-4c915b6327d0"
      },
      "execution_count": null,
      "outputs": [
        {
          "output_type": "stream",
          "name": "stdout",
          "text": [
            "Inventory space has been changed to 3000!\n",
            "The company LogCom Was founded in 1990.\n",
            "      The founder of the company is Laura McCartey.\n",
            "      Company slogan: There is no place we connot reach\n",
            "      İnventory Space of the company: 3000 \n"
          ]
        }
      ]
    },
    {
      "cell_type": "markdown",
      "source": [
        "### Trading\n",
        "The last company you need to digitalize is the trading one.\n",
        "\n",
        "You are expected to create a method to update the sales and expenses and calculate the revenue.\n",
        "\n",
        "As with the previous companies, you need to create a class.\n",
        "\n",
        "📌 Use the keyword \"class\" to create the class \"Trading\" \n",
        "\n",
        "📌 Use the \"__init__\" method to initialze the object's attributes: self, company_name, foundation_year, founder_name,  company_slogan, sales, expenses, and revenue.\n",
        "\n"
      ],
      "metadata": {
        "id": "CF-bba0xeH_G"
      }
    },
    {
      "cell_type": "markdown",
      "source": [
        "#### Define the methods\n",
        "\n",
        "Next, define the methods of the class:\n",
        "\n",
        "1. print_report method: A method to print out information about the company. \n",
        "\n",
        "  📌 The report should have this structure: \n",
        "\n",
        "  \"The company *name*, was founded in *year*. The founder of the company is *founder_name*. \n",
        "\n",
        "  Company slogan: *company_slogan*\n",
        "\n",
        "  Total sales: *sales*\n",
        "\n",
        "  Total expenses: *expenses*\n",
        "\n",
        "  Total revenue: *revenue*\n",
        "\n",
        "\n",
        "2. update_sales_and_expenses method: A method to update the sales and expenses.\n",
        "It should consider the parameters \"new_sales\" and \"new_expenses\".\n",
        "\n",
        "3. calculate_revenue method: A method  which computes the difference between sales and expenses and prints out the revenue."
      ],
      "metadata": {
        "id": "KSp_pa-08F69"
      }
    },
    {
      "cell_type": "code",
      "source": [
        "#Define the \"Trading\" class\n",
        "class Trading:\n",
        "    #Initialize the object's attributes \n",
        "    def __init__(self, company_name, foundation_year, founder_name, company_slogan, sales, expenses, revenue):\n",
        "      self.company_name = company_name\n",
        "      self.foundation_year = foundation_year\n",
        "      self.founder_name = founder_name\n",
        "      self.company_slogan = company_slogan\n",
        "      self.sales = sales\n",
        "      self.expenses = expenses\n",
        "      self.revenue = revenue\n",
        "    #Define the print_report method\n",
        "    def print_report(self):\n",
        "      print(f\"\"\"The company {self.company_name} Was founded in {self.foundation_year}.\n",
        "      The founder of the company is {self.founder_name}.\n",
        "      Company slogan: {self.company_slogan}\n",
        "      Total Sales: {self.sales}\n",
        "      Total Expenses: {self.expenses}\n",
        "      Total Revenue: {self.revenue} \"\"\")\n",
        "      \n",
        "\n",
        "    #Define the update_sales_and_expenses method\n",
        "    def update_sales_and_expenses (self, new_sales, new_expenses):\n",
        "      self.sales += new_sales\n",
        "      self.expenses += new_expenses\n",
        "      print(f\"sales and expenses has been changed to {self.sales} , {self.expenses}!\")\n",
        "\n",
        "    #Define the calculate_revenue method\n",
        "    def calculate_revenue(self):\n",
        "      self.revenue = self.sales - self.expenses\n",
        "      print(f\"The revenue of the company is: {self.revenue}\")"
      ],
      "metadata": {
        "id": "SGQJ507gd-m1"
      },
      "execution_count": null,
      "outputs": []
    },
    {
      "cell_type": "markdown",
      "source": [
        "#### Create the object \n",
        "Now that we created our class and initialized its attributes and methods, we can create the object “trading_company1” with the attributes: \n",
        "\n",
        "* Company_name “TraCom”\n",
        "\n",
        "* foundation_year “2005”\n",
        "\n",
        "* founder_name “Chong Wu”\n",
        "\n",
        "* company_slogan “We revolutionize trading.” \n",
        "\n",
        "* sales \"5000\"\n",
        "\n",
        "* expenses \"2000\"\n",
        "\n",
        "* revenue \"3000\""
      ],
      "metadata": {
        "id": "r94nvoLmIiON"
      }
    },
    {
      "cell_type": "code",
      "source": [
        "#Create the object \"trading_company1\" with it's attributes\n",
        "trading_company1 = Trading(\"NuneTrade\", 1999, \"Mune\", \"Donuzu bile satarız\", 3850, 1720, 1838)"
      ],
      "metadata": {
        "id": "ZukV3vH2ePH8"
      },
      "execution_count": null,
      "outputs": []
    },
    {
      "cell_type": "markdown",
      "source": [
        "#### Let’s check if the methods work.\n",
        "Update the sales and expenses. The sales went up by 100 and the expenses increased by 50.\n",
        "\n",
        "📌 Use the update_sales_and_expenses method with this information."
      ],
      "metadata": {
        "id": "lFoOC4JpYX0L"
      }
    },
    {
      "cell_type": "code",
      "source": [
        "#Update the sales and expenses\n",
        "trading_company1.update_sales_and_expenses(100,50)\n",
        "\n"
      ],
      "metadata": {
        "id": "Cn0c-Nq27HDI",
        "colab": {
          "base_uri": "https://localhost:8080/"
        },
        "outputId": "01ef528a-2399-4816-c86d-75bcb35f130b"
      },
      "execution_count": null,
      "outputs": [
        {
          "output_type": "stream",
          "name": "stdout",
          "text": [
            "sales and expenses has been changed to 3950 , 1770!\n"
          ]
        }
      ]
    },
    {
      "cell_type": "markdown",
      "source": [
        "After updating sale and expense informations, it is time to calculate the company revenue. \n",
        "\n",
        "📌 Use the calculate revenue method."
      ],
      "metadata": {
        "id": "PH28zb2WYrYl"
      }
    },
    {
      "cell_type": "code",
      "source": [
        "#Calculate the revenue\n",
        "trading_company1.calculate_revenue()"
      ],
      "metadata": {
        "id": "E5Yb-de-8AiK",
        "colab": {
          "base_uri": "https://localhost:8080/"
        },
        "outputId": "fbc30a34-fa1e-4d94-98c7-1762ca161cf6"
      },
      "execution_count": null,
      "outputs": [
        {
          "output_type": "stream",
          "name": "stdout",
          "text": [
            "The revenue of the company is: 2180\n"
          ]
        }
      ]
    },
    {
      "cell_type": "markdown",
      "source": [
        "Finally, let’s check our company’s information."
      ],
      "metadata": {
        "id": "Z8QEH24AI0GA"
      }
    },
    {
      "cell_type": "code",
      "source": [
        "#Call the print_report method for trading_company1\n",
        "trading_company1.print_report()"
      ],
      "metadata": {
        "id": "jdEaNvGV_OD0",
        "colab": {
          "base_uri": "https://localhost:8080/"
        },
        "outputId": "37d4ef8f-6d7f-4681-dcb6-c9cf33ae7adf"
      },
      "execution_count": null,
      "outputs": [
        {
          "output_type": "stream",
          "name": "stdout",
          "text": [
            "The company NuneTrade Was founded in 1999.\n",
            "      The founder of the company is Mune.\n",
            "      Company slogan: Donuzu bile satarız\n",
            "      Total Sales: 5100\n",
            "      Total Expenses: 2050\n",
            "      Total Revenue: 3050 \n"
          ]
        }
      ]
    }
  ]
}