{
  "cells": [
    {
      "cell_type": "markdown",
      "metadata": {
        "id": "view-in-github",
        "colab_type": "text"
      },
      "source": [
        "<a href=\"https://colab.research.google.com/github/uygaraktas/Machine-Learning-Example/blob/main/Guided_project_1_%C4%B0ntroduction.ipynb\" target=\"_parent\"><img src=\"https://colab.research.google.com/assets/colab-badge.svg\" alt=\"Open In Colab\"/></a>"
      ]
    },
    {
      "cell_type": "markdown",
      "source": [
        "# Chapter 1\n",
        "### Your first day at your new job 👩‍💻👨‍💻\n",
        "\n",
        "You are starting a new job as a junior software developer in an IT company. \n",
        "\n",
        "The company’s HR department asks you to fill out a form, so you start by assigning your personal information to corresponding variables.\n",
        "\n",
        "📌 Create a variable for your name, surname, age, ID number, place of residence, to specify if you have active health insurance or not, and lastly one for specifying your nationality.\n"
      ],
      "metadata": {
        "id": "VMuUK0ap_bRD"
      }
    },
    {
      "cell_type": "code",
      "execution_count": null,
      "metadata": {
        "id": "OPLhhc2Sp-D0"
      },
      "outputs": [],
      "source": [
        "my_name = \"Uygar\"\n",
        "my_surname = \"Aktaş\"\n",
        "my_age = 18\n",
        "ID_number = 159159159\n",
        "where_i_live = \"Utah\"\n",
        "Health_insurance = True \n",
        "#my_nationality = \"turko\""
      ]
    },
    {
      "cell_type": "markdown",
      "metadata": {
        "id": "3zaUlxwcp-D0"
      },
      "source": [
        "###Meet And Greet\n",
        "Introduce yourself to your new co-workers.\n",
        "\n",
        "📌 Use a f-string to print \"My name is Joey Tribbiani I am 25 years old and I live in London”."
      ]
    },
    {
      "cell_type": "code",
      "source": [
        "print(f\"My name is {my_name} {my_surname} I am {str(my_age)} years old and I live in {where_i_live}\")"
      ],
      "metadata": {
        "colab": {
          "base_uri": "https://localhost:8080/"
        },
        "id": "5KB5BYtqSJvl",
        "outputId": "1400d306-1e1c-4c5c-f3ef-94a37fc07b64"
      },
      "execution_count": null,
      "outputs": [
        {
          "output_type": "stream",
          "name": "stdout",
          "text": [
            "My name is Uygar Aktaş I am 18 years old and I live in Utah\n"
          ]
        }
      ]
    },
    {
      "cell_type": "markdown",
      "metadata": {
        "id": "EEL9To4ip-D1"
      },
      "source": [
        "### Equipment starter pack\n",
        "The HR department asks you to list the items you would need to improve your work efficiency\n",
        "\n",
        "Mandatory:\n",
        "* Laptop\n",
        "* Headset\n",
        "* Second monitor\n",
        "\n",
        "Optional:\n",
        "* Mousepad\n",
        "* USB drive\n",
        "* External drive\n",
        "\n",
        "\n",
        "📌 Create a shopping list that contains items above and print it."
      ]
    },
    {
      "cell_type": "code",
      "execution_count": null,
      "metadata": {
        "id": "fPFBLDyqp-D2"
      },
      "outputs": [],
      "source": [
        "#Create the item_list\n",
        "item_list = ['Laptop' ,'Headset' ,'Second monitor' ,'Mousepad','USB drive', 'External drive']\n"
      ]
    },
    {
      "cell_type": "code",
      "source": [
        "#Print the list\n",
        "print(item_list)\n"
      ],
      "metadata": {
        "id": "358R_CN5U2-J",
        "colab": {
          "base_uri": "https://localhost:8080/"
        },
        "outputId": "ec794d15-3199-4eb7-c27e-78dcf9f5d0a0"
      },
      "execution_count": null,
      "outputs": [
        {
          "output_type": "stream",
          "name": "stdout",
          "text": [
            "['Laptop', 'Headset', 'Second monitor', 'Mousepad', 'USB drive', 'External drive']\n"
          ]
        }
      ]
    },
    {
      "cell_type": "markdown",
      "metadata": {
        "id": "5keEWjCyp-D2"
      },
      "source": [
        "####What is mandatory and what is optional?\n",
        "\n",
        "📌 Use list slicing to devide your list in two list: 'mandatory_item_list' and 'optional_item_list' and print both to the screen."
      ]
    },
    {
      "cell_type": "markdown",
      "source": [],
      "metadata": {
        "id": "qgafkomsZPk9"
      }
    },
    {
      "cell_type": "code",
      "execution_count": null,
      "metadata": {
        "id": "E6ewuDYZp-D2"
      },
      "outputs": [],
      "source": [
        "#Use list slicing to divide the mandatory items\n",
        "mandatory_items = item_list[0:3]\n",
        "\n"
      ]
    },
    {
      "cell_type": "code",
      "source": [
        "#Use list slicing to divide the optional items\n",
        "opsional_items = item_list[3:6]\n"
      ],
      "metadata": {
        "id": "hOmkym01RGEL"
      },
      "execution_count": null,
      "outputs": []
    },
    {
      "cell_type": "code",
      "source": [
        "#Print both to the screen\n",
        "print(f\"mandatory items = {mandatory_items}, opsional items = {opsional_items}\")\n"
      ],
      "metadata": {
        "id": "xsVv1_msVE1_",
        "colab": {
          "base_uri": "https://localhost:8080/"
        },
        "outputId": "053623c8-c5c1-4345-eec8-8873a8cbb484"
      },
      "execution_count": null,
      "outputs": [
        {
          "output_type": "stream",
          "name": "stdout",
          "text": [
            "mandatory items = ['Laptop', 'Headset', 'Second monitor'], opsional items = ['Mousepad', 'USB drive', 'External drive']\n"
          ]
        }
      ]
    },
    {
      "cell_type": "markdown",
      "metadata": {
        "id": "s_M1Q93wp-D3"
      },
      "source": [
        "#### Go Shopping\n",
        "Next, you will have to go and purchase these items, the finance department confirmed a budget of $5000.\n",
        "\n",
        "📌 Assign 5000 to a variable called limit, so you know how much you can spend."
      ]
    },
    {
      "cell_type": "code",
      "execution_count": null,
      "metadata": {
        "id": "nCmpm0oqp-D3"
      },
      "outputs": [],
      "source": [
        "#Assign the spending limit value to a variable called limit\n",
        "limit = 5000\n"
      ]
    },
    {
      "cell_type": "markdown",
      "metadata": {
        "id": "VwbEEymVp-D3"
      },
      "source": [
        "####Price dictionary\n",
        "\n",
        "Before you start shopping yo need to find the best items that you can buy within the company budget. \n",
        "\n",
        "📌 Prepare a dictionary called “price_sheet” that includes the items as keys and the prices as values.  \n",
        " "
      ]
    },
    {
      "cell_type": "code",
      "execution_count": null,
      "metadata": {
        "id": "9o9n9Ag-p-D3"
      },
      "outputs": [],
      "source": [
        "#Create a dictionary that contains each item and its price\n",
        "price_sheet = {\n",
        "    'Laptop': 1500,\n",
        "    'Headset': 100,\n",
        "    'Second monitor': 200,\n",
        "    'Mousepad': 50,\n",
        "    'USB drive': 70,\n",
        "    'External drive':250\n",
        "}\n",
        "\n"
      ]
    },
    {
      "cell_type": "markdown",
      "metadata": {
        "id": "rUYivBVEBhCv"
      },
      "source": [
        "####Shopping functions\n",
        "\n",
        "You need to define three functions that will help you during shopping.\n",
        "\n",
        "📌 First, create an empty list that  will be your shopping cart. Here you will add the items you need to purchase.\n",
        "\n",
        "1. Define a function for both adding items to the cart and removing them from the item_list.\n",
        "\n",
        "📌 The \"add_to_cart\" function should take the item name and the quantity to buy as an argument. \n",
        "\n",
        "2. Define a function that will create an invoice. \n",
        "\n",
        "📌 The \"create_invoice\" function should calculate the taxes of each item (18%) and add it to the total amount.\n",
        "\n",
        "3. Define a function for the checkout. \n",
        "\n",
        "📌 The \"checkout\" function should subtract the total amount from the budget and print a statement to inform if the payment was successful. "
      ]
    },
    {
      "cell_type": "code",
      "source": [
        "#Initialize the cart list\n",
        "cart = []"
      ],
      "metadata": {
        "id": "dBNZ2ZdkGHUe"
      },
      "execution_count": null,
      "outputs": []
    },
    {
      "cell_type": "code",
      "source": [
        "#Define the \"add_to_cart\" function\n",
        "def add_to_cart (item, quantity):\n",
        "  cart.append((item,quantity))\n",
        "  item_list.remove(item)\n"
      ],
      "metadata": {
        "id": "HH26hHHFGKPJ"
      },
      "execution_count": null,
      "outputs": []
    },
    {
      "cell_type": "code",
      "source": [
        "from functools import total_ordering\n",
        "#Define the \"create_invoice\" function\n",
        "def create_invoice ():\n",
        "  total_amount_inc_tax = 0 \n",
        "  for item, quantity in cart:\n",
        "    price = price_sheet[item]\n",
        "    tax = 0.18 * price\n",
        "    total = (tax + price)*quantity\n",
        "    total_amount_inc_tax += total\n",
        "    print('item', item, '\\t', 'Price', price, '\\t', 'Quantity', quantity, '\\t', 'Tax', tax, '\\t', \"Total:\", total, '\\n')\n",
        "  \n",
        "  print(\"After the taxes are applied the total amount is:\", '\\t', total_amount_inc_tax)\n",
        "\n",
        "  return total_amount_inc_tax"
      ],
      "metadata": {
        "id": "TUmNr4xVGQdm"
      },
      "execution_count": null,
      "outputs": []
    },
    {
      "cell_type": "code",
      "source": [
        "#Define the \"checkout\" function\n",
        "def checkout():\n",
        "  global limit\n",
        "  total_amount = create_invoice()\n",
        "  if limit == 0:\n",
        "    print(\"you don't have any budget\")\n",
        "  elif total_amount > limit:\n",
        "    print(\"The amount you have to pay is above the spending limit. You have to drop sone items.\")\n",
        "  else:\n",
        "    limit -= total_amount\n",
        "    print(f\"The total amount (incl.taxes) you've paid is {total_amount}. You have {limit} dollars left\") \n"
      ],
      "metadata": {
        "id": "iUlKiXgMGdIk"
      },
      "execution_count": null,
      "outputs": []
    },
    {
      "cell_type": "markdown",
      "source": [
        "Let's shop!"
      ],
      "metadata": {
        "id": "2IFUlu0yB0In"
      }
    },
    {
      "cell_type": "code",
      "source": [
        "#Call the \"add_to_cart\" function for each item\n",
        " \n",
        "#Add first item to cart\n",
        "add_to_cart(\"Laptop\", 1)\n",
        " \n",
        "#Add second item to cart\n",
        "add_to_cart(\"Headset\", 3)\n",
        "\n",
        " \n",
        "#Add third item to cart\n",
        "add_to_cart(\"Second monitor\", 2)\n",
        "\n",
        " \n",
        "#Add fourth item to cart\n",
        "add_to_cart(\"Mousepad\", 2)\n",
        "\n",
        " \n",
        "#Add fifth item to cart\n",
        "add_to_cart(\"USB drive\", 1)\n",
        "\n",
        " \n",
        "#Add last item to cart\n",
        "add_to_cart(\"External drive\", 1)\n",
        "\n",
        " \n",
        "#Call the create \"checkout\" function to pay for all your items \n",
        "checkout()\n"
      ],
      "metadata": {
        "id": "FDO7CRJTWPg7",
        "colab": {
          "base_uri": "https://localhost:8080/"
        },
        "outputId": "465c9772-739f-4e0a-90d6-583683972421"
      },
      "execution_count": null,
      "outputs": [
        {
          "output_type": "stream",
          "name": "stdout",
          "text": [
            "item Laptop \t Price 1500 \t Quantity 1 \t Tax 270.0 \t Total: 1770.0 \n",
            "\n",
            "item Headset \t Price 100 \t Quantity 3 \t Tax 18.0 \t Total: 354.0 \n",
            "\n",
            "item Second monitor \t Price 200 \t Quantity 2 \t Tax 36.0 \t Total: 472.0 \n",
            "\n",
            "item Mousepad \t Price 50 \t Quantity 2 \t Tax 9.0 \t Total: 118.0 \n",
            "\n",
            "item USB drive \t Price 70 \t Quantity 1 \t Tax 12.6 \t Total: 82.6 \n",
            "\n",
            "item External drive \t Price 250 \t Quantity 1 \t Tax 45.0 \t Total: 295.0 \n",
            "\n",
            "After the taxes are applied the total amount is: \t 3091.6\n",
            "The total amount (incl.taxes) you've paid is 3091.6. You have 1908.4 dollars left\n"
          ]
        }
      ]
    },
    {
      "cell_type": "markdown",
      "source": [
        "###Game Night\n",
        "\n",
        "You are back at the office and the HR department organizes a welcome party for new employees. \n",
        "\n",
        "You decide to create a Rock-Paper-Scissor game. \n",
        "\n",
        "📌 Create a Rock-Paper-Scissor game in which the user plays against the computer. The player will choose one of the actions, and the computer will choose its action randomly.\n"
      ],
      "metadata": {
        "id": "ZL-r2x_xKixg"
      }
    },
    {
      "cell_type": "code",
      "source": [
        "#Import the random library\n",
        "import random"
      ],
      "metadata": {
        "id": "qzD5pxBTgcFb"
      },
      "execution_count": null,
      "outputs": []
    },
    {
      "cell_type": "code",
      "source": [
        "#create a list containing the three actions of the game.\n",
        "action_list = ['taş', 'kağıt', 'makas']"
      ],
      "metadata": {
        "id": "oJv-ihLAgcRo"
      },
      "execution_count": null,
      "outputs": []
    },
    {
      "cell_type": "code",
      "source": [
        "#Set the scores of players to 0\n",
        "computer_score = 0\n",
        "player_score = 0\n",
        "\n",
        "#Ask the user how many rounds they want to play\n",
        "total_rounds = input(\"Kaç round oynamak istiyorsunuz? Lütfen bir sayı giriniz: \")\n",
        "\n",
        "#Add a round_counter that is 0 at the beginning\n",
        "round_counter = 0\n",
        "\n",
        "#Write a while loop and put the game inside\n",
        "while True:\n",
        "\n",
        "  #Increase round_counter by and print it\n",
        "  round_counter += 1\n",
        "  print(\"raund numarası:\", round_counter)\n",
        "\n",
        "  #Select a random action for computer\n",
        "  computer_choice = random.choice(action_list)\n",
        "\n",
        "  #Ask player to choose an action\n",
        "  player_choice = input(\"Seçimini yap!: \")\n",
        "\n",
        "  #Print the players choices\n",
        "  print(\"Seçimin: \", player_choice)\n",
        "  print(\"Onun Seçimi: \", computer_choice)\n",
        "\n",
        "  #tie condition\n",
        "  if computer_choice == player_choice:\n",
        "    print(\"berebere krdsm\")\n",
        "\n",
        "\n",
        "  #Remaining conditions\n",
        "  elif computer_choice == 'kağıt':\n",
        "    if player_choice == 'taş':\n",
        "      print(\"Kaybettn puh\")\n",
        "      computer_score += 1\n",
        "    else:\n",
        "      print(\"Kazandın hll\")\n",
        "      player_score += 1\n",
        "\n",
        "  elif computer_choice == 'taş':\n",
        "    if player_choice == 'kağıt':\n",
        "      print(\"Kazandın hll\")\n",
        "      player_score += 1\n",
        "    else:\n",
        "      print(\"Kaybettn puh\")\n",
        "      computer_score += 1\n",
        "\n",
        "  elif computer_choice == 'makas':\n",
        "    if player_choice == 'kağıt':\n",
        "      print(\"Kaybettn krdsm\")\n",
        "      computer_score += 1\n",
        "    else:\n",
        "      print(\"Kazandın karişm\")\n",
        "      player_score += 1\n",
        "\n",
        "\n",
        "  #Stop the while loop if the round_counter equals the number of total rounds\n",
        "  if round_counter == int(total_rounds):\n",
        "    break\n",
        "\n",
        "\n",
        "#Print the outcome of the game by using conditional statements\n",
        "if computer_score == player_score:\n",
        "  print(\"BEREBERE\", computer_score, \":\", player_score)\n",
        "elif computer_score > player_score:\n",
        "  print(\"PC KAZANDI NOOB\", computer_score, \":\", player_score)\n",
        "elif computer_score < player_score:\n",
        "  print(\"KEDİ OLALI Bİ FARE TUTTUN AFERM\", computer_score, \":\", player_score)"
      ],
      "metadata": {
        "id": "DNUa_9afWqMd",
        "colab": {
          "base_uri": "https://localhost:8080/"
        },
        "outputId": "c20ab9ee-1893-420d-a6c0-54b2eadde3d8"
      },
      "execution_count": null,
      "outputs": [
        {
          "output_type": "stream",
          "name": "stdout",
          "text": [
            "Kaç round oynamak istiyorsunuz? Lütfen bir sayı giriniz: 1\n",
            "raund numarası: 1\n",
            "Seçimini yap!: pen\n",
            "Seçimin:  pen\n",
            "Onun Seçimi:  taş\n",
            "Kaybettn puh\n",
            "PC KAZANDI NOOB 1 : 0\n"
          ]
        }
      ]
    },
    {
      "cell_type": "markdown",
      "metadata": {
        "id": "jdrYN0Xgp-D6"
      },
      "source": [
        "# Your first task \n",
        "\n",
        "Rachel asks you to write a program to track the name and revenue each employee brings.  \n",
        "\n",
        "* Create the \"salesperson_revenue\" dictionary to see the employee name as a key and the revenue as a value.\n",
        "\n",
        "  📌 Every employee starts with 0 revenue.\n",
        "* Define the \"enter_revenue\" function. \n",
        "\n",
        "  📌 The function takes the name and revenue as an argument and updates the salesperson_revenue dictionary.\n"
      ]
    },
    {
      "cell_type": "code",
      "source": [
        "#Create salesperson_revenue dictionary\n",
        "salesperson_revenue = {\n",
        "    \"Ben\": 0,\n",
        "    \"Omer\": 0,\n",
        "    \"Karen\": 0,\n",
        "    \"Celine\": 0,\n",
        "    \"Sue\": 0,\n",
        "    \"Bora\": 0,\n",
        "    \"Rose\": 0,\n",
        "    \"Ellen\": 0\n",
        "}\n",
        "\n"
      ],
      "metadata": {
        "id": "3vzRo7hyMRv2"
      },
      "execution_count": null,
      "outputs": []
    },
    {
      "cell_type": "code",
      "source": [
        "#Define enter_revenue function\n",
        "def enter_revenue(name, revenue):\n",
        "  global salesperson_revenue\n",
        "  salesperson_revenue[name] += revenue\n",
        "\n"
      ],
      "metadata": {
        "id": "m-8IozBwMRzM"
      },
      "execution_count": null,
      "outputs": []
    },
    {
      "cell_type": "markdown",
      "source": [
        "####Try out the functions\n",
        "* In a while loop ask the user to give the name of the employee and for the revenue \n",
        "\n",
        "  📌 If the user enters “quit” the loop should break.\n",
        "\n",
        "After that, print out the salesperson_revenue dictionary.\n"
      ],
      "metadata": {
        "id": "UnTGSoNTi58u"
      }
    },
    {
      "cell_type": "code",
      "source": [
        "#Asking user employee name as input\n",
        "while True:\n",
        "  name = input(\"Çalışan ismi giriniz: \")\n",
        "  if name == \"quit\":\n",
        "    break\n",
        "  revenue = int(input(\"Gelirini giriniz: \"))\n",
        "  enter_revenue(name, revenue)\n",
        "  print(f\"{name}'nın geliri: {salesperson_revenue[name]}\")"
      ],
      "metadata": {
        "id": "2E549VvFXNi6",
        "colab": {
          "base_uri": "https://localhost:8080/"
        },
        "outputId": "d1857934-1e54-4cad-e7b1-ad6d415b0b3b"
      },
      "execution_count": null,
      "outputs": [
        {
          "name": "stdout",
          "output_type": "stream",
          "text": [
            "Çalışan ismi giriniz: Ben\n",
            "Gelirini giriniz: 80\n",
            "Ben'nın geliri: 80\n",
            "Çalışan ismi giriniz: Bora\n",
            "Gelirini giriniz: 29\n",
            "Bora'nın geliri: 29\n",
            "Çalışan ismi giriniz: Ellen\n",
            "Gelirini giriniz: 20\n",
            "Ellen'nın geliri: 20\n",
            "Çalışan ismi giriniz: quit\n"
          ]
        }
      ]
    },
    {
      "cell_type": "code",
      "source": [
        "#Print the salesperson_revenue dictionary\n",
        "print(salesperson_revenue)\n"
      ],
      "metadata": {
        "id": "OAvl9rgOXPe6",
        "colab": {
          "base_uri": "https://localhost:8080/"
        },
        "outputId": "ba3c20a8-4a56-4c11-ff41-7060b59b0028"
      },
      "execution_count": null,
      "outputs": [
        {
          "output_type": "stream",
          "name": "stdout",
          "text": [
            "{'Ben': 80, 'Omer': 0, 'Karen': 0, 'Celine': 0, 'Sue': 0, 'Bora': 29, 'Rose': 0, 'Ellen': 20}\n"
          ]
        }
      ]
    }
  ],
  "metadata": {
    "interpreter": {
      "hash": "c5914ae3790566b9cd0e984a9bdda42a29da8adf046b5ac0173e0d37aacf3dab"
    },
    "kernelspec": {
      "display_name": "Python 3.9.7",
      "language": "python",
      "name": "python3"
    },
    "language_info": {
      "codemirror_mode": {
        "name": "ipython",
        "version": 3
      },
      "file_extension": ".py",
      "mimetype": "text/x-python",
      "name": "python",
      "nbconvert_exporter": "python",
      "pygments_lexer": "ipython3",
      "version": "3.9.7"
    },
    "orig_nbformat": 4,
    "colab": {
      "provenance": [],
      "collapsed_sections": [],
      "include_colab_link": true
    }
  },
  "nbformat": 4,
  "nbformat_minor": 0
}